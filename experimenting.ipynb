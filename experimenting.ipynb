{
 "cells": [
  {
   "cell_type": "code",
   "execution_count": null,
   "metadata": {},
   "outputs": [],
   "source": [
    "import requests"
   ]
  },
  {
   "cell_type": "code",
   "execution_count": null,
   "metadata": {},
   "outputs": [],
   "source": [
    "client_id = \"023c5a21f5415bfcdbb4e59b13963042\"\n",
    "client_secret = \"327eb4d3d238e55250be1c7c6bff01713ecb0798b7c13f221a2681de71417b25\"\n",
    "token = \"433bc230448c60eb7440fde466bccc9b\""
   ]
  },
  {
   "cell_type": "code",
   "execution_count": null,
   "metadata": {},
   "outputs": [],
   "source": [
    "headers = {\n",
    "    \"Content-Type\": \"application/json\",\n",
    "    \"Authorization\":\"Token token=%s\" % token,\n",
    "    \"Accept\": \"application/vnd.stattleship.com; version=1\"\n",
    "}\n",
    "\n",
    "payload = {\n",
    "    \"week\":13\n",
    "}"
   ]
  },
  {
   "cell_type": "code",
   "execution_count": null,
   "metadata": {},
   "outputs": [],
   "source": [
    "r = requests.get(\"https://api.stattleship.com/football/nfl/games\", headers=headers, data=payload)"
   ]
  },
  {
   "cell_type": "code",
   "execution_count": null,
   "metadata": {
    "scrolled": true
   },
   "outputs": [],
   "source": [
    "for x in r.json():\n",
    "    print(x)"
   ]
  },
  {
   "cell_type": "code",
   "execution_count": null,
   "metadata": {},
   "outputs": [],
   "source": [
    "r.json()['games']"
   ]
  },
  {
   "cell_type": "code",
   "execution_count": null,
   "metadata": {},
   "outputs": [],
   "source": [
    "from stattlepy import Stattleship\n",
    "New_query = Stattleship()\n",
    "Token = New_query.set_token(token)\n",
    "Output = New_query.ss_get_results(sport='basketball',league='nba',ep='game_logs',player_id='nba-stephen-curry')"
   ]
  },
  {
   "cell_type": "markdown",
   "metadata": {
    "collapsed": true
   },
   "source": [
    "# scraping"
   ]
  },
  {
   "cell_type": "code",
   "execution_count": null,
   "metadata": {},
   "outputs": [],
   "source": [
    "from bs4 import BeautifulSoup"
   ]
  },
  {
   "cell_type": "code",
   "execution_count": null,
   "metadata": {},
   "outputs": [],
   "source": [
    "def scrape_week(13):"
   ]
  },
  {
   "cell_type": "code",
   "execution_count": null,
   "metadata": {},
   "outputs": [],
   "source": [
    "headers = {\n",
    "    'User-Agent': 'Mozilla/5.0 (Windows NT 6.1) AppleWebKit/537.36 (KHTML, like Gecko) Chrome/41.0.2228.0 Safari/537.36'\n",
    "}"
   ]
  },
  {
   "cell_type": "code",
   "execution_count": null,
   "metadata": {},
   "outputs": [],
   "source": [
    "r = requests.get(\"http://www.espn.com/nfl/scoreboard/_/year/2017/seasontype/2/week/13\", headers=headers)"
   ]
  },
  {
   "cell_type": "code",
   "execution_count": null,
   "metadata": {},
   "outputs": [],
   "source": [
    "with open('test.txt', 'w') as f:\n",
    "    f.write(html_source)"
   ]
  },
  {
   "cell_type": "code",
   "execution_count": null,
   "metadata": {},
   "outputs": [],
   "source": [
    "soup = BeautifulSoup(r.text, \"html5lib\")"
   ]
  },
  {
   "cell_type": "code",
   "execution_count": null,
   "metadata": {},
   "outputs": [],
   "source": [
    "mydivs = soup.findAll(\"div\", { \"class\" : \"scoreboard-top\"})"
   ]
  },
  {
   "cell_type": "markdown",
   "metadata": {},
   "source": [
    "# Selenium"
   ]
  },
  {
   "cell_type": "code",
   "execution_count": null,
   "metadata": {},
   "outputs": [],
   "source": [
    "import time"
   ]
  },
  {
   "cell_type": "code",
   "execution_count": null,
   "metadata": {},
   "outputs": [],
   "source": [
    "driver_path = \"./chromedriver\"\n",
    "driver = webdriver.Chrome(driver_path)\n",
    "driver.get(\"http://www.espn.com/nfl/scoreboard/_/year/2017/seasontype/2/week/13\")\n",
    "time.sleep(8)\n",
    "html_source = driver.page_source\n",
    "# elem = driver.find_element_by_name(\"q\")\n",
    "# elem.clear()\n",
    "# elem.send_keys(\"pycon\")\n",
    "# elem.send_keys(Keys.RETURN)\n",
    "# assert \"No results found.\" not in driver.page_source\n",
    "driver.close()"
   ]
  },
  {
   "cell_type": "code",
   "execution_count": null,
   "metadata": {},
   "outputs": [],
   "source": [
    "type(html_source)"
   ]
  },
  {
   "cell_type": "code",
   "execution_count": null,
   "metadata": {},
   "outputs": [],
   "source": [
    "soup = BeautifulSoup(html_source, \"html5lib\")"
   ]
  },
  {
   "cell_type": "code",
   "execution_count": null,
   "metadata": {},
   "outputs": [],
   "source": [
    "game_divs = soup.findAll(\"div\", { \"class\":\"scoreboard-top no-tabs\"})"
   ]
  },
  {
   "cell_type": "code",
   "execution_count": null,
   "metadata": {},
   "outputs": [],
   "source": [
    "div = game_divs[1].findAll(\"tr\", { \"class\":\"home\"} )[0]"
   ]
  },
  {
   "cell_type": "code",
   "execution_count": null,
   "metadata": {},
   "outputs": [],
   "source": [
    "game_divs[1]"
   ]
  },
  {
   "cell_type": "code",
   "execution_count": null,
   "metadata": {},
   "outputs": [],
   "source": [
    "div.findAll(\"span\", {\"class\":\"sb-team-short\"})[0].text"
   ]
  },
  {
   "cell_type": "code",
   "execution_count": 14,
   "metadata": {},
   "outputs": [],
   "source": [
    "from selenium import webdriver\n",
    "from selenium.webdriver.common.keys import Keys\n",
    "import time\n",
    "\n",
    "def scrape_week_game_data(week_number):\n",
    "    driver_path = \"./chromedriver\"\n",
    "    driver = webdriver.Chrome(driver_path)\n",
    "    driver.get(\"http://www.espn.com/nfl/scoreboard/_/year/2017/seasontype/2/week/%s\" % week_number)\n",
    "    time.sleep(8)\n",
    "    html_source = driver.page_source\n",
    "    driver.close()\n",
    "    return html_source\n",
    "\n",
    "def get_week_game_data(html_string):\n",
    "    soup = BeautifulSoup(html_string, \"html5lib\")\n",
    "    game_divs = soup.findAll(\"div\", { \"class\":\"scoreboard-top no-tabs\"})\n",
    "    week_game_data = []\n",
    "    for game_div in game_divs:\n",
    "        game_data = {}\n",
    "        try:\n",
    "            game_data['time'] = game_div.findAll(\"th\", { \"class\":\"date-time\"})[0]['data-date']\n",
    "        except:\n",
    "            #TODO: figure out how to handle no time\n",
    "            game_data['time'] = None\n",
    "        home_team_div = game_div.findAll(\"tr\", { \"class\":\"home\"} )[0]\n",
    "        game_data['home_team_name'] = home_team_div.findAll(\"span\", {\"class\":\"sb-team-short\"})[0].text\n",
    "        away_team_div = game_div.findAll(\"tr\", { \"class\":\"away\"} )[0]\n",
    "        game_data['away_team_name'] = away_team_div.findAll(\"span\", {\"class\":\"sb-team-short\"})[0].text\n",
    "        try:\n",
    "            stat_div = game_div.findAll(\"div\", { \"class\":\"stat \"} )[0]\n",
    "            game_data['spread'] = stat_div.findAll(\"div\")[0].text.replace('Line: ','')\n",
    "            game_data['over_under'] = stat_div.findAll(\"div\")[1].text.replace('O/U: ','')\n",
    "        except:\n",
    "            game_data['spread'] = None\n",
    "            game_data['over_under'] = None\n",
    "        \n",
    "        week_game_data.append(game_data)\n",
    "    return week_game_data\n"
   ]
  },
  {
   "cell_type": "code",
   "execution_count": null,
   "metadata": {},
   "outputs": [],
   "source": [
    "#This was a test / one-off function to test scraping multiple pages\n",
    "# def scrape_week_game_data():\n",
    "#     all_html = []\n",
    "#     driver_path = \"./chromedriver\"\n",
    "#     driver = webdriver.Chrome(driver_path)\n",
    "#     for week_number in [13,14]:\n",
    "#         driver.get(\"http://www.espn.com/nfl/scoreboard/_/year/2017/seasontype/2/week/%s\" % week_number)\n",
    "#         print(\"fetching week number %s\" % week_number)\n",
    "#         time.sleep(8)\n",
    "#         html_source = driver.page_source\n",
    "#         file_name = \"%s.html\" % week_number\n",
    "#         with open(file_name, 'w') as f:\n",
    "#             f.write(html_source)\n",
    "#         all_html.append(html_source)\n",
    "#     driver.close()\n",
    "#     return all_html"
   ]
  },
  {
   "cell_type": "code",
   "execution_count": null,
   "metadata": {},
   "outputs": [],
   "source": [
    "len(all_html)"
   ]
  },
  {
   "cell_type": "code",
   "execution_count": null,
   "metadata": {},
   "outputs": [],
   "source": [
    "all_game_data = []\n",
    "for doc in all_html:\n",
    "    [all_game_data.append(game) for game in get_week_game_data(doc)]"
   ]
  },
  {
   "cell_type": "code",
   "execution_count": null,
   "metadata": {},
   "outputs": [],
   "source": [
    "get_week_game_data(all_html[1])"
   ]
  },
  {
   "cell_type": "code",
   "execution_count": null,
   "metadata": {},
   "outputs": [],
   "source": [
    "len(all_game_data)"
   ]
  },
  {
   "cell_type": "code",
   "execution_count": null,
   "metadata": {},
   "outputs": [],
   "source": [
    "all_game_data"
   ]
  },
  {
   "cell_type": "code",
   "execution_count": null,
   "metadata": {},
   "outputs": [],
   "source": []
  }
 ],
 "metadata": {
  "kernelspec": {
   "display_name": "Python 3",
   "language": "python",
   "name": "python3"
  },
  "language_info": {
   "codemirror_mode": {
    "name": "ipython",
    "version": 3
   },
   "file_extension": ".py",
   "mimetype": "text/x-python",
   "name": "python",
   "nbconvert_exporter": "python",
   "pygments_lexer": "ipython3",
   "version": "3.5.2"
  }
 },
 "nbformat": 4,
 "nbformat_minor": 1
}
